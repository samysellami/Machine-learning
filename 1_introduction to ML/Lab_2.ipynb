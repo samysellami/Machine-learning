{
 "cells": [
  {
   "cell_type": "markdown",
   "metadata": {
    "colab_type": "text",
    "id": "1LtP3lwri3oK"
   },
   "source": [
    "# Lab 2\n",
    "\n",
    "## Linear regression and gradient descent\n",
    "\n",
    "![Mountains](https://lh3.googleusercontent.com/GGMHKwLa9F77J07BdQnK0uBDLr5BwCWZsxllP0Vj2HXSv58PlM7VirZmH6NrZtx1_QiY2isOEsWllnmD-l8facskaWsc3hMiYpChCsayA585e8ySc5tXq8YO3koNcBIgqpLRUqRDMchAh-lug7AnP1yLG1FDo8pC0L9q2S8Mb_fTgfaNcncSgtn_znetWW4lVnT4WTHgLrt8380SErJZvVE0dHFzWgE9PaU-p-ZFm77j3CSDeLqEgT_1ugA1dwQ5h921XMSJlsVv7_fNT7Wbb3wJOyJz-oq5KYtZMaY5S5F7ewt9IhQAz9kS2u2r5q6jiZZw_gNvZNSEm80Gqr66LlO5N9URpu9-JwXLCs52pdzsDcbH8P7gkLE_R3Xgd6c2lidCyRC3Kh6o9-OGPpIxbFihhk4yBgZc0CSHL3QRknqfcjksCyc5DxstPrKSFNdHBkyuaIXutzbVEqmjct-iOLm3LzlAl_3mkfIat9T2PvX4TDTIpkYflgHF7fGzI80mi5qQtLYxl6b9gQEHH2wsWImP8QQHYuhCSNBlsoQ4uovHUPVf_AUdpEfzKHvK8rs8L0xAMUEZmtxY8Ilxf4Z8w_EPcF2w2wGTQs7mWrFOe6qP4llBLl-BsVlPKDftzaUq0VgA4QMmfSNbJTK4u0F4gshwKPbG1qevaw=w2270-h1512-no =500x)\n",
    "\n",
    "*How cost function can look if plot it on 2 independent variables.*\n",
    "\n",
    " 📷Photo from: https://www.instagram.com/yagfarov"
   ]
  },
  {
   "cell_type": "code",
   "execution_count": 0,
   "metadata": {
    "colab": {},
    "colab_type": "code",
    "id": "cmgMxOm9i0ok"
   },
   "outputs": [],
   "source": [
    "import pandas as pd\n",
    "import numpy as np\n",
    "import matplotlib.pyplot as plt"
   ]
  },
  {
   "cell_type": "markdown",
   "metadata": {
    "colab_type": "text",
    "id": "7KU2kkIhkDhq"
   },
   "source": [
    "Download datasets"
   ]
  },
  {
   "cell_type": "code",
   "execution_count": 2,
   "metadata": {
    "colab": {
     "base_uri": "https://localhost:8080/",
     "height": 391
    },
    "colab_type": "code",
    "id": "8yCxeIsykClo",
    "outputId": "b0641291-c1df-484b-c5a3-d1e570e1da2f"
   },
   "outputs": [
    {
     "name": "stdout",
     "output_type": "stream",
     "text": [
      "--2018-08-29 07:47:31--  https://raw.githubusercontent.com/RocketFlash/introduction_to_ML_Innopolis/master/lab2_house_data.csv\r\n",
      "Resolving raw.githubusercontent.com (raw.githubusercontent.com)... 151.101.0.133, 151.101.64.133, 151.101.128.133, ...\r\n",
      "Connecting to raw.githubusercontent.com (raw.githubusercontent.com)|151.101.0.133|:443... connected.\n",
      "HTTP request sent, awaiting response... 200 OK\n",
      "Length: 2515206 (2.4M) [text/plain]\n",
      "Saving to: ‘lab2_house_data.csv.1’\n",
      "\n",
      "lab2_house_data.csv 100%[===================>]   2.40M  --.-KB/s    in 0.1s    \n",
      "\n",
      "2018-08-29 07:47:32 (16.7 MB/s) - ‘lab2_house_data.csv.1’ saved [2515206/2515206]\n",
      "\n",
      "--2018-08-29 07:47:33--  https://gist.githubusercontent.com/omarish/5687264/raw/7e5c814ce6ef33e25d5259c1fe79463c190800d9/mpg.csv\n",
      "Resolving gist.githubusercontent.com (gist.githubusercontent.com)... 151.101.0.133, 151.101.64.133, 151.101.128.133, ...\n",
      "Connecting to gist.githubusercontent.com (gist.githubusercontent.com)|151.101.0.133|:443... connected.\n",
      "HTTP request sent, awaiting response... 200 OK\n",
      "Length: 17727 (17K) [text/plain]\n",
      "Saving to: ‘mpg.csv.1’\n",
      "\n",
      "mpg.csv.1           100%[===================>]  17.31K  --.-KB/s    in 0.007s  \n",
      "\n",
      "2018-08-29 07:47:33 (2.50 MB/s) - ‘mpg.csv.1’ saved [17727/17727]\n",
      "\n"
     ]
    }
   ],
   "source": [
    "# House dataset\n",
    "!wget https://raw.githubusercontent.com/RocketFlash/introduction_to_ML_Innopolis/master/lab2_house_data.csv\n",
    "# Miles per galon prediction data\n",
    "!wget https://gist.githubusercontent.com/omarish/5687264/raw/7e5c814ce6ef33e25d5259c1fe79463c190800d9/mpg.csv"
   ]
  },
  {
   "cell_type": "markdown",
   "metadata": {
    "colab_type": "text",
    "id": "j_upXJVYBtiW"
   },
   "source": []
  },
  {
   "cell_type": "markdown",
   "metadata": {
    "colab_type": "text",
    "id": "wuBHToeDvqG0"
   },
   "source": [
    "Let's consider simple linear data case. $y_{i}$ - is our guess, value that our model considers and $\\hat{y_{i}}$ is a ground truth.\n",
    "\n",
    "$$y = \\beta_{1}x + \\beta_{0}$$\n",
    "\n",
    "$$J = MSE = \\frac{1}{n}\\sum_{i=1}^{n} (\\hat{y_{i}}- y_{i})^{2}$$\n",
    "\n",
    "Our goal is to minimize cost function $J$\n",
    "\n",
    "For linear model cost fuction is:\n",
    "\n",
    "$$J = \\frac{1}{n}\\sum_{i=1}^{n} (\\hat{y_{i}}- (\\beta_{1}x + \\beta_{0}))^{2}$$"
   ]
  },
  {
   "cell_type": "code",
   "execution_count": 0,
   "metadata": {
    "colab": {},
    "colab_type": "code",
    "id": "kDmh_ygJxkXC"
   },
   "outputs": [],
   "source": [
    "def generate_data(b1, b0, size, x_range = (-10, 10), noise_mean = 0, \n",
    "                  noise_std = 1):\n",
    "  \"\"\"\n",
    "\tinput:\n",
    "\tb1, b0 - true parameters of data\n",
    "\tsize - size of data, numbers of samples\n",
    "  x_range - tuple of (min, max) x-values\n",
    "  noise_mean - noise mean value\n",
    "  noise_std - noise standard deviation\n",
    "\t\n",
    "\toutput:\n",
    "\tdata_x, data_y - data features\n",
    "\t\"\"\"\n",
    "  noise = np.random.normal(noise_mean, noise_std, size)\n",
    "  # rnd_vals = np.random.rand(size)\n",
    "  # data_x = np.random.choice(x_range[1]-x_range[0], size)\n",
    "  data_x = np.linspace(start=x_range[0], stop=x_range[1], num=size)\n",
    "  data_y = b1 * data_x + b0 + noise\n",
    "\t\n",
    "  return data_x, data_y"
   ]
  },
  {
   "cell_type": "code",
   "execution_count": 0,
   "metadata": {
    "colab": {},
    "colab_type": "code",
    "id": "aSb4tmJiyV_Q"
   },
   "outputs": [],
   "source": [
    "def predict(x, y):\n",
    "\t\"\"\"\n",
    "\tinput:\n",
    "\tx, y - data features\n",
    "\t\n",
    "\toutput:\n",
    "\tb1, b0 - predicted parameters of data\n",
    "\t\"\"\"\n",
    "\tmean_x = x.mean()\n",
    "\tmean_y = y.mean()\n",
    "\n",
    "\tb1 = np.dot(y - mean_y, x - mean_x) / np.dot(x - mean_x, x - mean_x)\n",
    "\tb0 = mean_y - b1*mean_x\n",
    "\n",
    "\treturn b1, b0"
   ]
  },
  {
   "cell_type": "code",
   "execution_count": 0,
   "metadata": {
    "colab": {},
    "colab_type": "code",
    "id": "uD58PfKfyWEd"
   },
   "outputs": [],
   "source": [
    "\n",
    "def animate(data_x, data_y, true_b1, true_b0, b1, b0, x_range = (-10,10), \n",
    "            label=\"Least squares\"):\n",
    "\tplt.scatter(data_x, data_y)\n",
    "\tplt.plot([x_range[0], x_range[1]], \n",
    "           [x_range[0]*true_b1 + true_b0, x_range[1]*true_b1 + true_b0], \n",
    "           c=\"r\", linewidth=2, label=\"True\")\n",
    "\tplt.plot([x_range[0], x_range[1]], \n",
    "           [x_range[0]*b1 + b0, x_range[1]*b1 + b0], \n",
    "           c=\"g\", linewidth=2, label=label)\n",
    "\tplt.legend()\n",
    "\tplt.show()"
   ]
  },
  {
   "cell_type": "code",
   "execution_count": 6,
   "metadata": {
    "colab": {
     "base_uri": "https://localhost:8080/",
     "height": 415
    },
    "colab_type": "code",
    "id": "TRi-sgk9yWM0",
    "outputId": "8222c0a8-9cdb-4228-a0c2-a83685691eb5"
   },
   "outputs": [
    {
     "name": "stdout",
     "output_type": "stream",
     "text": [
      "true b1 : 2.5\n",
      "true b0 : -7\n",
      "calculated b1 : 2.51764272013\n",
      "calculated b0 : -7.39657608162\n"
     ]
    },
    {
     "data": {
      "image/png": "[encoded data removed]",
      "text/plain": [
       "<matplotlib.figure.Figure at 0x7f3fed64ffd0>"
      ]
     },
     "metadata": {
      "tags": []
     },
     "output_type": "display_data"
    }
   ],
   "source": [
    "### Parameters for data generation ###\n",
    "true_b1 = 2.5\n",
    "true_b0 = -7\n",
    "size = 50\n",
    "x_range = (0,10)\n",
    "noise_mean = 0 \n",
    "noise_std = 1\n",
    "\n",
    "# Generate the data\n",
    "data_x, data_y = generate_data(true_b1, true_b0, size, \n",
    "                               x_range = x_range, \n",
    "                               noise_mean = noise_mean, \n",
    "                               noise_std = noise_std)\n",
    "\n",
    "# Predict data's parameters\n",
    "b1, b0 = predict(data_x, data_y)\n",
    "\n",
    "# Visualize the data\n",
    "print(\"true b1 : {}\\ntrue b0 : {}\".format(true_b1, true_b0))\n",
    "print(\"calculated b1 : {}\\ncalculated b0 : {}\".format(b1, b0))\n",
    "animate(data_x, data_y, true_b1, true_b0, b1, b0,x_range=x_range)"
   ]
  },
  {
   "cell_type": "markdown",
   "metadata": {
    "colab_type": "text",
    "id": "UpQ72WV_mdRC"
   },
   "source": [
    "## Gradient descent\n",
    "\n",
    "Let's find derivatives: \n",
    "$$\\frac{\\partial J}{\\partial \\beta_{1}} = - \\frac{1}{n} \\sum_{i=1}^{n} 2 x_{i}(\\hat{y_{i}}- (\\beta_{1}x_{i} + \\beta_{0}))$$\n",
    "\n",
    "$$\\frac{\\partial J}{\\partial \\beta_{0}} = - \\frac{1}{n} \\sum_{i=1}^{n} 2 (\\hat{y_{i}}- (\\beta_{1}x_{i} + \\beta_{0}))$$\n",
    "\n",
    "And update weights :\n",
    "\n",
    "$$\\beta_{1} = \\beta_{1} - \\alpha \\frac{\\partial J}{\\partial \\beta_{1}}$$\n",
    "\n",
    "$$\\beta_{0} = \\beta_{0} - \\alpha \\frac{\\partial J}{\\partial \\beta_{0}}$$\n",
    "\n",
    "$\\alpha$ - is a learning rate, step size of gradient descent\n",
    "\n",
    "![Gradient descent explanation](https://cdn-images-1.medium.com/max/1600/0*-gAPePneZOQsTkUx.png =400x)\n"
   ]
  },
  {
   "cell_type": "code",
   "execution_count": 0,
   "metadata": {
    "colab": {},
    "colab_type": "code",
    "id": "EeXlDIT8yWTc"
   },
   "outputs": [],
   "source": [
    "def gradient_descent2(x, y, lr = 0.01, N=100, beta_initial = None):\n",
    "  x = np.c_[np.ones_like(x), x]\n",
    "  beta = np.random.randn(x.shape[1]) if beta_initial == None else beta_initial \n",
    "  for _ in range(N):\n",
    "    y_model = x.dot(beta)\n",
    "    error = y - y_model\n",
    "    gradient = -(1.0/x.shape[0]) * error.T.dot(x)\n",
    "    delta_beta = lr * gradient.T\n",
    "    beta-=delta_beta\n",
    "  return beta"
   ]
  },
  {
   "cell_type": "code",
   "execution_count": 0,
   "metadata": {
    "colab": {},
    "colab_type": "code",
    "id": "DykPep_dXiNK"
   },
   "outputs": [],
   "source": [
    "def gradient_descent(x, y, lr=1e-2, N=1000):\n",
    "\t# b1, b0 = np.random.random(size=2)\n",
    "\tb1, b0 = 1, -1\n",
    "\n",
    "\titeration = 0\n",
    "\twhile iteration < N:\n",
    "\t\tdelta = b1 * x + b0 - y\n",
    "\t\tdb0 = 2 * np.sum(delta) / N\n",
    "\t\tdb1 = 2 * np.dot(delta, x) / N\n",
    "\n",
    "\t\tb1 = b1 - lr * db1\n",
    "\t\tb0 = b0 - lr * db0\n",
    "\t\titeration += 1\n",
    "\n",
    "\treturn b1, b0"
   ]
  },
  {
   "cell_type": "code",
   "execution_count": 14,
   "metadata": {
    "colab": {
     "base_uri": "https://localhost:8080/",
     "height": 416
    },
    "colab_type": "code",
    "id": "YBOFLlhCESiy",
    "outputId": "ae5b0138-46c9-488c-8aea-d3a1cd9f8cad"
   },
   "outputs": [
    {
     "name": "stdout",
     "output_type": "stream",
     "text": [
      "true b1 : 2.5\n",
      "true b0 : -7\n",
      "calculated b1 : 2.41401890109\n",
      "calculated b0 : -6.4779660645\n"
     ]
    },
    {
     "data": {
      "image/png": "[encoded data removed]",
      "text/plain": [
       "<matplotlib.figure.Figure at 0x7f3fead9b210>"
      ]
     },
     "metadata": {
      "tags": []
     },
     "output_type": "display_data"
    }
   ],
   "source": [
    "### Parameters for data generation ###\n",
    "true_b1 = 2.5\n",
    "true_b0 = -7\n",
    "size = 100\n",
    "x_range = (0,10)\n",
    "noise_mean = 0 \n",
    "noise_std = 1\n",
    "\n",
    "# generate the data\n",
    "data_x, data_y = generate_data(true_b1, true_b0, size, \n",
    "                               x_range = x_range, \n",
    "                               noise_mean = noise_mean, \n",
    "                               noise_std = noise_std)\n",
    "\n",
    "### Gradient descent parameters ###\n",
    "# learning rate\n",
    "lr = 5e-2\n",
    "# Number of iterations\n",
    "n_iterations=1000\n",
    "\n",
    "# Predict data's parameters\n",
    "b1, b0 = gradient_descent(data_x, data_y, lr=lr, N=n_iterations)\n",
    "\n",
    "# visualize the data\n",
    "print(\"true b1 : {}\\ntrue b0 : {}\".format(true_b1, true_b0))\n",
    "print(\"calculated b1 : {}\\ncalculated b0 : {}\".format(b1, b0))\n",
    "animate(data_x, data_y, true_b1, true_b0, b1, b0,x_range=x_range, label=\"Gradient descent\")"
   ]
  },
  {
   "cell_type": "markdown",
   "metadata": {
    "colab_type": "text",
    "id": "DCElzRWk7jaS"
   },
   "source": [
    "Scikit-learn implementation"
   ]
  },
  {
   "cell_type": "code",
   "execution_count": 53,
   "metadata": {
    "colab": {
     "base_uri": "https://localhost:8080/",
     "height": 204
    },
    "colab_type": "code",
    "id": "EvhuwzDH-_2e",
    "outputId": "148a01fb-07d9-4674-ec97-dde6b974690f"
   },
   "outputs": [
    {
     "data": {
      "text/html": [
       "<div>\n",
       "<style scoped>\n",
       "    .dataframe tbody tr th:only-of-type {\n",
       "        vertical-align: middle;\n",
       "    }\n",
       "\n",
       "    .dataframe tbody tr th {\n",
       "        vertical-align: top;\n",
       "    }\n",
       "\n",
       "    .dataframe thead th {\n",
       "        text-align: right;\n",
       "    }\n",
       "</style>\n",
       "<table border=\"1\" class=\"dataframe\">\n",
       "  <thead>\n",
       "    <tr style=\"text-align: right;\">\n",
       "      <th></th>\n",
       "      <th>mpg</th>\n",
       "      <th>cylinders</th>\n",
       "      <th>displacement</th>\n",
       "      <th>horsepower</th>\n",
       "      <th>weight</th>\n",
       "      <th>acceleration</th>\n",
       "      <th>model_year</th>\n",
       "      <th>origin</th>\n",
       "      <th>name</th>\n",
       "    </tr>\n",
       "  </thead>\n",
       "  <tbody>\n",
       "    <tr>\n",
       "      <th>0</th>\n",
       "      <td>18.0</td>\n",
       "      <td>8</td>\n",
       "      <td>307.0</td>\n",
       "      <td>130</td>\n",
       "      <td>3504</td>\n",
       "      <td>12.0</td>\n",
       "      <td>70</td>\n",
       "      <td>1</td>\n",
       "      <td>chevrolet chevelle malibu</td>\n",
       "    </tr>\n",
       "    <tr>\n",
       "      <th>1</th>\n",
       "      <td>15.0</td>\n",
       "      <td>8</td>\n",
       "      <td>350.0</td>\n",
       "      <td>165</td>\n",
       "      <td>3693</td>\n",
       "      <td>11.5</td>\n",
       "      <td>70</td>\n",
       "      <td>1</td>\n",
       "      <td>buick skylark 320</td>\n",
       "    </tr>\n",
       "    <tr>\n",
       "      <th>2</th>\n",
       "      <td>18.0</td>\n",
       "      <td>8</td>\n",
       "      <td>318.0</td>\n",
       "      <td>150</td>\n",
       "      <td>3436</td>\n",
       "      <td>11.0</td>\n",
       "      <td>70</td>\n",
       "      <td>1</td>\n",
       "      <td>plymouth satellite</td>\n",
       "    </tr>\n",
       "    <tr>\n",
       "      <th>3</th>\n",
       "      <td>16.0</td>\n",
       "      <td>8</td>\n",
       "      <td>304.0</td>\n",
       "      <td>150</td>\n",
       "      <td>3433</td>\n",
       "      <td>12.0</td>\n",
       "      <td>70</td>\n",
       "      <td>1</td>\n",
       "      <td>amc rebel sst</td>\n",
       "    </tr>\n",
       "    <tr>\n",
       "      <th>4</th>\n",
       "      <td>17.0</td>\n",
       "      <td>8</td>\n",
       "      <td>302.0</td>\n",
       "      <td>140</td>\n",
       "      <td>3449</td>\n",
       "      <td>10.5</td>\n",
       "      <td>70</td>\n",
       "      <td>1</td>\n",
       "      <td>ford torino</td>\n",
       "    </tr>\n",
       "  </tbody>\n",
       "</table>\n",
       "</div>"
      ],
      "text/plain": [
       "    mpg  cylinders  displacement horsepower  weight  acceleration  model_year  origin                       name\n",
       "0  18.0          8         307.0        130    3504          12.0          70       1  chevrolet chevelle malibu\n",
       "1  15.0          8         350.0        165    3693          11.5          70       1          buick skylark 320\n",
       "2  18.0          8         318.0        150    3436          11.0          70       1         plymouth satellite\n",
       "3  16.0          8         304.0        150    3433          12.0          70       1              amc rebel sst\n",
       "4  17.0          8         302.0        140    3449          10.5          70       1                ford torino"
      ]
     },
     "metadata": {
      "tags": []
     },
     "output_type": "display_data"
    }
   ],
   "source": [
    "import pandas as pd\n",
    "\n",
    "df = pd.read_csv('mpg.csv')\n",
    "with pd.option_context('display.max_rows', 100, 'display.max_columns', 50, 'display.width', 500):\n",
    "\tdisplay(df.head())"
   ]
  },
  {
   "cell_type": "markdown",
   "metadata": {
    "colab_type": "text",
    "id": "iLKn8ZcLC6JQ"
   },
   "source": [
    "Name isn't important"
   ]
  },
  {
   "cell_type": "code",
   "execution_count": 0,
   "metadata": {
    "colab": {},
    "colab_type": "code",
    "id": "aOqz1W4bC88R"
   },
   "outputs": [],
   "source": [
    "df = df.drop('name', axis=1)"
   ]
  },
  {
   "cell_type": "markdown",
   "metadata": {
    "colab_type": "text",
    "id": "NEgnIs72SODG"
   },
   "source": [
    "Data contains ''?'' marks, we should replace them with nan values"
   ]
  },
  {
   "cell_type": "code",
   "execution_count": 58,
   "metadata": {
    "colab": {
     "base_uri": "https://localhost:8080/",
     "height": 170
    },
    "colab_type": "code",
    "id": "KFwOVzykScCT",
    "outputId": "f44e4902-7860-49d6-9800-e65c5cf1709f"
   },
   "outputs": [
    {
     "name": "stdout",
     "output_type": "stream",
     "text": [
      "mpg             34.5\n",
      "cylinders          4\n",
      "displacement     100\n",
      "horsepower         ?\n",
      "weight          2320\n",
      "acceleration    15.8\n",
      "model_year        81\n",
      "origin             2\n",
      "Name: 354, dtype: object\n"
     ]
    }
   ],
   "source": [
    "print(df.loc[354])"
   ]
  },
  {
   "cell_type": "code",
   "execution_count": 0,
   "metadata": {
    "colab": {},
    "colab_type": "code",
    "id": "8p1OvDvISWkD"
   },
   "outputs": [],
   "source": [
    "import numpy as np\n",
    "\n",
    "df = df.replace('?', np.nan)\n",
    "df = df.dropna()"
   ]
  },
  {
   "cell_type": "markdown",
   "metadata": {
    "colab_type": "text",
    "id": "k4n27wtPSy-p"
   },
   "source": [
    "Let's take a look on \"origin\" column values"
   ]
  },
  {
   "cell_type": "code",
   "execution_count": 60,
   "metadata": {
    "colab": {
     "base_uri": "https://localhost:8080/",
     "height": 34
    },
    "colab_type": "code",
    "id": "MvN8NF7yTNIY",
    "outputId": "2e81adb0-3eb6-4d19-ceeb-e53cc6fc3ab1"
   },
   "outputs": [
    {
     "data": {
      "text/plain": [
       "array([1, 3, 2])"
      ]
     },
     "execution_count": 60,
     "metadata": {
      "tags": []
     },
     "output_type": "execute_result"
    }
   ],
   "source": [
    "df['origin'].unique()"
   ]
  },
  {
   "cell_type": "code",
   "execution_count": 0,
   "metadata": {
    "colab": {},
    "colab_type": "code",
    "id": "nyXJ7-ZrSzQE"
   },
   "outputs": [],
   "source": [
    "df['origin'] = df['origin'].replace({1: 'america', 2: 'europe', 3: 'asia'})\n",
    "df = pd.get_dummies(df, columns=['origin'])"
   ]
  },
  {
   "cell_type": "code",
   "execution_count": 62,
   "metadata": {
    "colab": {
     "base_uri": "https://localhost:8080/",
     "height": 238
    },
    "colab_type": "code",
    "id": "AMIzWhQyUtpW",
    "outputId": "ad1a9383-2d20-4298-ec20-cbc84f1f2d23"
   },
   "outputs": [
    {
     "name": "stdout",
     "output_type": "stream",
     "text": [
      "    mpg  cylinders  displacement horsepower  weight  acceleration  model_year  \\\n",
      "0  18.0          8         307.0        130    3504          12.0          70   \n",
      "1  15.0          8         350.0        165    3693          11.5          70   \n",
      "2  18.0          8         318.0        150    3436          11.0          70   \n",
      "3  16.0          8         304.0        150    3433          12.0          70   \n",
      "4  17.0          8         302.0        140    3449          10.5          70   \n",
      "\n",
      "   origin_america  origin_asia  origin_europe  \n",
      "0               1            0              0  \n",
      "1               1            0              0  \n",
      "2               1            0              0  \n",
      "3               1            0              0  \n",
      "4               1            0              0  \n"
     ]
    }
   ],
   "source": [
    "print(df.head())"
   ]
  },
  {
   "cell_type": "markdown",
   "metadata": {
    "colab_type": "text",
    "id": "14NcVG2YEbGu"
   },
   "source": [
    "Separate data on features and labels"
   ]
  },
  {
   "cell_type": "code",
   "execution_count": 0,
   "metadata": {
    "colab": {},
    "colab_type": "code",
    "id": "vbgVj6ZwEarW"
   },
   "outputs": [],
   "source": [
    "X = df.drop('mpg', axis=1)\n",
    "y = df[['mpg']]"
   ]
  },
  {
   "cell_type": "markdown",
   "metadata": {
    "colab_type": "text",
    "id": "SWkpSP-6DSgW"
   },
   "source": [
    "Let's split our data on training and testing sets using scikit-learn   ```train_test_split\n",
    "``` function\n",
    "\n",
    "\n",
    "\n"
   ]
  },
  {
   "cell_type": "code",
   "execution_count": 0,
   "metadata": {
    "colab": {},
    "colab_type": "code",
    "id": "NVDdDEtBDT2w"
   },
   "outputs": [],
   "source": [
    "from sklearn.model_selection import train_test_split\n",
    "\n",
    "# Split X and y on training and testing sets\n",
    "X_train, X_test, y_train, y_test = train_test_split(X, y, test_size=0.2, random_state=1)"
   ]
  },
  {
   "cell_type": "code",
   "execution_count": 67,
   "metadata": {
    "colab": {
     "base_uri": "https://localhost:8080/",
     "height": 34
    },
    "colab_type": "code",
    "id": "hRDDFOmb7iSQ",
    "outputId": "4255b00e-357e-4a4e-e9d0-b38a0894c4c7"
   },
   "outputs": [
    {
     "name": "stdout",
     "output_type": "stream",
     "text": [
      "Y = -17.96 + -0.17X1 + 0.02X2 + -0.01X3 + -0.01X4 + 0.19X5 + 0.77X6 + -1.76X7 + 0.96X8 + 0.8X9\n"
     ]
    }
   ],
   "source": [
    "from sklearn.linear_model import LinearRegression\n",
    "\n",
    "regression_model = LinearRegression()\n",
    "# feed the linear regression with the train data to obtain a model.\n",
    "regression_model.fit(X_train, y_train)\n",
    "\n",
    "coefficients = []\n",
    "# add beta0\n",
    "coefficients.append(regression_model.intercept_[0]) \n",
    "equation = 'Y = ' + str(round(coefficients[0],2))\n",
    "for i in range(X_train.shape[1]):\n",
    "    coefficients.append(regression_model.coef_[0][i])\n",
    "    equation += ' + ' + str(round(regression_model.coef_[0][i],2))+'X'+str(i+1)\n",
    "    \n",
    "# print result equation\n",
    "print(equation)"
   ]
  },
  {
   "cell_type": "markdown",
   "metadata": {
    "colab_type": "text",
    "id": "IJjSXT2OV6wW"
   },
   "source": [
    "Model  $R^2$ score "
   ]
  },
  {
   "cell_type": "code",
   "execution_count": 68,
   "metadata": {
    "colab": {
     "base_uri": "https://localhost:8080/",
     "height": 34
    },
    "colab_type": "code",
    "id": "RTiusNQeV8ue",
    "outputId": "0a73fc85-7dd5-44b9-ca11-d8f8134d3382"
   },
   "outputs": [
    {
     "data": {
      "text/plain": [
       "0.8285937887753855"
      ]
     },
     "execution_count": 68,
     "metadata": {
      "tags": []
     },
     "output_type": "execute_result"
    }
   ],
   "source": [
    "regression_model.score(X_test, y_test)"
   ]
  },
  {
   "cell_type": "markdown",
   "metadata": {
    "colab_type": "text",
    "id": "F_bzoBwXWWIU"
   },
   "source": [
    "Mean squared error"
   ]
  },
  {
   "cell_type": "code",
   "execution_count": 69,
   "metadata": {
    "colab": {
     "base_uri": "https://localhost:8080/",
     "height": 34
    },
    "colab_type": "code",
    "id": "G3zDnTRTWb4v",
    "outputId": "d69e7bdc-6b76-42a5-f529-f769e5b8b896"
   },
   "outputs": [
    {
     "name": "stdout",
     "output_type": "stream",
     "text": [
      "3.447066660016477\n"
     ]
    }
   ],
   "source": [
    "from sklearn.metrics import mean_squared_error\n",
    "import math\n",
    "\n",
    "y_predict = regression_model.predict(X_test)\n",
    "regression_model_mse = mean_squared_error(y_predict, y_test)\n",
    "\n",
    "print(math.sqrt(regression_model_mse))"
   ]
  },
  {
   "cell_type": "markdown",
   "metadata": {
    "colab_type": "text",
    "id": "PGRrMwa7W5R_"
   },
   "source": [
    "Make predictions"
   ]
  },
  {
   "cell_type": "code",
   "execution_count": 70,
   "metadata": {
    "colab": {
     "base_uri": "https://localhost:8080/",
     "height": 34
    },
    "colab_type": "code",
    "id": "xGUph_uIW7QQ",
    "outputId": "7dc69583-fad4-4d7a-e168-9229eda68a06"
   },
   "outputs": [
    {
     "data": {
      "text/plain": [
       "array([[28.79446916]])"
      ]
     },
     "execution_count": 70,
     "metadata": {
      "tags": []
     },
     "output_type": "execute_result"
    }
   ],
   "source": [
    "regression_model.predict([[4, 121, 110, 2800, 15.4, 81, 0, 1, 0]])"
   ]
  },
  {
   "cell_type": "code",
   "execution_count": 76,
   "metadata": {
    "colab": {
     "base_uri": "https://localhost:8080/",
     "height": 398
    },
    "colab_type": "code",
    "id": "LnTIRwvV7nYf",
    "outputId": "881c37d2-b074-4227-8fbf-0ca4ef93234b"
   },
   "outputs": [
    {
     "data": {
      "text/plain": [
       "Text(0,0.5,'y')"
      ]
     },
     "execution_count": 76,
     "metadata": {
      "tags": []
     },
     "output_type": "execute_result"
    },
    {
     "data": {
      "image/png": "[encoded data removed]",
      "text/plain": [
       "<matplotlib.figure.Figure at 0x7f2f51700f60>"
      ]
     },
     "metadata": {
      "tags": []
     },
     "output_type": "display_data"
    }
   ],
   "source": [
    "import matplotlib.pyplot as plt\n",
    "\n",
    "projected_column = 'displacement'\n",
    "max_x = np.int64(X_train[projected_column].max())\n",
    "min_x = np.int64(X_train[projected_column].min())\n",
    "x = list(X_train[projected_column])\n",
    "y = list(y_train['mpg'])\n",
    "m = coefficients[df.columns.get_loc(projected_column)+1]\n",
    "b = coefficients[0]\n",
    "# now we are going to plot the points and the model obtained\n",
    "plt.scatter(x, y, color='blue')  # you can use test_data_X and test_data_Y instead.\n",
    "plt.plot([min_x, max_x], [m*min_x + b, m*max_x + b], 'r')\n",
    "plt.title('Fitted linear regression', fontsize=16)\n",
    "plt.xlabel('x', fontsize=13)\n",
    "plt.ylabel('y', fontsize=13)"
   ]
  },
  {
   "cell_type": "code",
   "execution_count": 0,
   "metadata": {
    "colab": {},
    "colab_type": "code",
    "id": "HjApIYN7_QPe"
   },
   "outputs": [],
   "source": []
  },
  {
   "cell_type": "markdown",
   "metadata": {
    "colab_type": "text",
    "id": "4DmysW0gnwwB"
   },
   "source": [
    "References:\n",
    "\n",
    "http://benalexkeen.com/linear-regression-in-python-using-scikit-learn/  \n",
    "https://www.cs.toronto.edu/~frossard/post/linear_regression/"
   ]
  },
  {
   "cell_type": "code",
   "execution_count": 0,
   "metadata": {
    "colab": {},
    "colab_type": "code",
    "id": "Ccxz2wbunyW4"
   },
   "outputs": [],
   "source": []
  }
 ],
 "metadata": {
  "colab": {
   "collapsed_sections": [],
   "name": "Lab_2.ipynb",
   "provenance": [],
   "version": "0.3.2"
  },
  "kernelspec": {
   "display_name": "Python 3",
   "language": "python",
   "name": "python3"
  },
  "language_info": {
   "codemirror_mode": {
    "name": "ipython",
    "version": 3
   },
   "file_extension": ".py",
   "mimetype": "text/x-python",
   "name": "python",
   "nbconvert_exporter": "python",
   "pygments_lexer": "ipython3",
   "version": "3.6.5"
  }
 },
 "nbformat": 4,
 "nbformat_minor": 1
}

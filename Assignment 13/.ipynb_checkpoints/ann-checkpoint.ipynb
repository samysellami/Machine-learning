{
 "cells": [
  {
   "cell_type": "code",
   "execution_count": 3,
   "metadata": {},
   "outputs": [
    {
     "name": "stdout",
     "output_type": "stream",
     "text": [
      "[[6.28930112e-03]\n",
      " [9.93621438e-01]\n",
      " [9.94179473e-01]\n",
      " [8.17698518e-04]\n",
      " [9.98079353e-01]\n",
      " [2.50068737e-01]]\n"
     ]
    }
   ],
   "source": [
    "import numpy as np\n",
    "from sklearn.ensemble import RandomForestClassifier\n",
    "\n",
    "X = np.array([[0, 0, 0],\n",
    "              [0, 1, 0],\n",
    "              [1, 0, 0],\n",
    "              [0, 0, 1],\n",
    "              [1, 0, 1],\n",
    "              [1, 1, 1]])\n",
    "\n",
    "RandomForestClassifier()\n",
    "W1=[[-4.9981605, -1.07977764, -4.63107903, 0.77975539],\n",
    "    [-5.23518082, 2.9894962, 2.09285688, -2.3807279, ],\n",
    "    [1.86235711, -0.05955762, 0.73450118, 1.29146894]]\n",
    "\n",
    "W2=[[-7.35383386, 5.97548867, 0.46500659, 0.93833849, 0.95093351], \n",
    "    [-2.50376915, 1.49435331, -0.25614277, 0.97663961, 0.82391926], \n",
    "    [4.11950385, -2.6483043, 0.21555922, -1.6368795, -1.30915197], \n",
    "    [3.06518371, -2.46303259, -0.20889594, -1.0895797, -0.84178262]]\n",
    "\n",
    "W3=[[10.07770919], \n",
    "    [-7.2610922], \n",
    "    [-0.108012], \n",
    "    [-1.95695342], \n",
    "    [-1.69213446]]\n",
    "\n",
    "# TO DO ---- 5 POINTS --------------------- Network structure --------------------\n",
    "# Given network weights, understand what is the number of layers in the ANN?\n",
    "# Now many neurons in the layers the network has?\n",
    "# layers: ___3___\n",
    "# neurons: layer 1: ____4____ ...\n",
    "# neurons: layer 2: ____5____ ...\n",
    "# neurons: layer 3: ____1____ ...\n",
    "# -----------------------------------------------------\n",
    "\n",
    "# TO DO ---- 10 POINTS --------------------- prediction --------------------\n",
    "# Implement forvard propogation to calculate the prediction. Use sigmoid for activation function.\n",
    "def predict(x):\n",
    "    z1=X.dot(W1) \n",
    "    a1= 1/(1 + np.exp(-z1))\n",
    "    z2= a1.dot(W2)\n",
    "    a2= 1/(1 + np.exp(-z2))\n",
    "    z3= a2.dot(W3)\n",
    "    a3= 1/(1 + np.exp(-z3))\n",
    "    \n",
    "    return a3\n",
    "\n",
    "# -----------------------------------------------------\n",
    "\n",
    "y_pred = predict(X)\n",
    "print(y_pred)\n",
    "\n",
    "# TO DO ---- 5 POINTS --------------------- logical function --------------------\n",
    "# Considering input and output agruments as binary values.\n",
    "# Based on the output, which logical function the network implements?\n",
    "# Answer: ___XOR______\n",
    "# -----------------------------------------------------\n"
   ]
  },
  {
   "cell_type": "code",
   "execution_count": null,
   "metadata": {},
   "outputs": [],
   "source": []
  }
 ],
 "metadata": {
  "kernelspec": {
   "display_name": "Python 3",
   "language": "python",
   "name": "python3"
  },
  "language_info": {
   "codemirror_mode": {
    "name": "ipython",
    "version": 3
   },
   "file_extension": ".py",
   "mimetype": "text/x-python",
   "name": "python",
   "nbconvert_exporter": "python",
   "pygments_lexer": "ipython3",
   "version": "3.6.5"
  }
 },
 "nbformat": 4,
 "nbformat_minor": 2
}

{
 "cells": [
  {
   "cell_type": "code",
   "execution_count": 97,
   "metadata": {},
   "outputs": [
    {
     "name": "stdout",
     "output_type": "stream",
     "text": [
      "0.7962962962962963\n",
      "0.7406944444444444\n",
      "0.7939814814814815\n",
      "0.9930555555555556\n"
     ]
    }
   ],
   "source": [
    "import numpy as np\n",
    "import pandas as pd\n",
    "from sklearn.metrics import accuracy_score\n",
    "from sklearn.model_selection import train_test_split\n",
    "from sklearn.ensemble import RandomForestClassifier\n",
    "\n",
    "data = pd.read_csv('titanic.csv')\n",
    "data = data.drop(columns=['name'])\n",
    "data = data.fillna(data.mean())\n",
    "data = pd.get_dummies(data, columns=['sex','embarked'])\n",
    "\n",
    "X = data.iloc[:,1:].astype('float64').values\n",
    "y = data.iloc[:,0].values\n",
    "X_train, X_test, y_train, y_test = train_test_split(X, y, test_size=0.33, random_state=42)\n",
    "\n",
    "model = RandomForestClassifier(n_estimators = 300, criterion = 'entropy', random_state=42)\n",
    "model.fit(X_train, y_train)\n",
    "\n",
    "y_pred = model.predict(X_test)\n",
    "accuracy = accuracy_score(y_test, y_pred)\n",
    "print(accuracy)\n",
    "\n",
    "#TO DO ---- 10 POINTS --------------------- Average accuracy --------------------\n",
    "# Caclulate average accuracy for estimators in the ensemble\n",
    "mean_accuracy=[]\n",
    "for estimator in model.estimators_:\n",
    "    y_predict=estimator.predict(X_test)\n",
    "    accuracy=accuracy_score(y_predict, y_test)\n",
    "    mean_accuracy.append(accuracy)\n",
    "    \n",
    "print(sum(mean_accuracy)/len(mean_accuracy))\n",
    "# ----------------------------------------------------------\n",
    "\n",
    "\n",
    "#TO DO ---- 10 POINTS --------------------- Predictor --------------------\n",
    "# Implement prediction function for the RandomForestClassifier\n",
    "def predict(estimators, X_test):\n",
    "    y_pred_est= []\n",
    "    y_pred=[]\n",
    "    for m in estimators:\n",
    "        y_pred_est.append(m.predict(X_test))\n",
    "    counts =[]\n",
    "    for i in range(X_test.shape[0]):\n",
    "        count=0\n",
    "        for j in range(len(estimators)):\n",
    "            count+=y_pred_est[j][i]\n",
    "        counts.append(count)\n",
    "        if count> len(estimators)/2:\n",
    "            y_pred.append(1)\n",
    "        else:\n",
    "            y_pred.append(0)\n",
    "    return y_pred\n",
    "# ----------------------------------------------------------\n",
    "y_my_pred = predict(model.estimators_, X_test)\n",
    "# Prediction accuracy\n",
    "print(accuracy_score(y_test, y_my_pred))\n",
    "\n",
    "# Health check. Our prediction should return the same as from library.\n",
    "print(accuracy_score(y_pred, y_my_pred))\n"
   ]
  }
 ],
 "metadata": {
  "kernelspec": {
   "display_name": "Python 3",
   "language": "python",
   "name": "python3"
  },
  "language_info": {
   "codemirror_mode": {
    "name": "ipython",
    "version": 3
   },
   "file_extension": ".py",
   "mimetype": "text/x-python",
   "name": "python",
   "nbconvert_exporter": "python",
   "pygments_lexer": "ipython3",
   "version": "3.6.5"
  }
 },
 "nbformat": 4,
 "nbformat_minor": 2
}

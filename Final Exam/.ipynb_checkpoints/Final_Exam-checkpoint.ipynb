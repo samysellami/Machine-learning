{
 "cells": [
  {
   "cell_type": "code",
   "execution_count": 5,
   "metadata": {},
   "outputs": [
    {
     "name": "stdout",
     "output_type": "stream",
     "text": [
      "One tree accuracy: 0.6355140186915887\n"
     ]
    },
    {
     "ename": "TypeError",
     "evalue": "'builtin_function_or_method' object is not subscriptable",
     "output_type": "error",
     "traceback": [
      "\u001b[1;31m---------------------------------------------------------------------------\u001b[0m",
      "\u001b[1;31mTypeError\u001b[0m                                 Traceback (most recent call last)",
      "\u001b[1;32m<ipython-input-5-ee2f9c0e2612>\u001b[0m in \u001b[0;36m<module>\u001b[1;34m()\u001b[0m\n\u001b[0;32m    101\u001b[0m \u001b[1;31m# measuring accuracy using an ensemble based on boosting\u001b[0m\u001b[1;33m\u001b[0m\u001b[1;33m\u001b[0m\u001b[0m\n\u001b[0;32m    102\u001b[0m \u001b[0mensemble\u001b[0m \u001b[1;33m=\u001b[0m \u001b[0mBoostingTreeClassifier\u001b[0m\u001b[1;33m(\u001b[0m\u001b[0mrandom_state\u001b[0m\u001b[1;33m=\u001b[0m\u001b[0mrand_state\u001b[0m\u001b[1;33m)\u001b[0m\u001b[1;33m\u001b[0m\u001b[0m\n\u001b[1;32m--> 103\u001b[1;33m \u001b[0mensemble\u001b[0m\u001b[1;33m.\u001b[0m\u001b[0mfit\u001b[0m\u001b[1;33m(\u001b[0m\u001b[0mX_train\u001b[0m\u001b[1;33m,\u001b[0m \u001b[0my_train\u001b[0m\u001b[1;33m,\u001b[0m \u001b[0mT\u001b[0m\u001b[1;33m)\u001b[0m\u001b[1;33m\u001b[0m\u001b[0m\n\u001b[0m\u001b[0;32m    104\u001b[0m \u001b[0mprint\u001b[0m\u001b[1;33m(\u001b[0m\u001b[1;34m'Ensemble accuracy:'\u001b[0m\u001b[1;33m,\u001b[0m \u001b[0maccuracy_score\u001b[0m\u001b[1;33m(\u001b[0m\u001b[0mensemble\u001b[0m\u001b[1;33m.\u001b[0m\u001b[0mpredict\u001b[0m\u001b[1;33m(\u001b[0m\u001b[0mX_test\u001b[0m\u001b[1;33m)\u001b[0m\u001b[1;33m,\u001b[0m \u001b[0my_test\u001b[0m\u001b[1;33m)\u001b[0m\u001b[1;33m)\u001b[0m\u001b[1;33m\u001b[0m\u001b[0m\n",
      "\u001b[1;32m<ipython-input-5-ee2f9c0e2612>\u001b[0m in \u001b[0;36mfit\u001b[1;34m(self, X, y, n_trees)\u001b[0m\n\u001b[0;32m     43\u001b[0m \u001b[1;33m\u001b[0m\u001b[0m\n\u001b[0;32m     44\u001b[0m             \u001b[0mmodel\u001b[0m\u001b[1;33m.\u001b[0m\u001b[0mfit\u001b[0m\u001b[1;33m(\u001b[0m\u001b[0mX\u001b[0m\u001b[1;33m,\u001b[0m \u001b[0my\u001b[0m\u001b[1;33m)\u001b[0m\u001b[1;33m\u001b[0m\u001b[0m\n\u001b[1;32m---> 45\u001b[1;33m             \u001b[0mself\u001b[0m\u001b[1;33m.\u001b[0m\u001b[0mclassifiers\u001b[0m\u001b[1;33m.\u001b[0m\u001b[0mappend\u001b[0m\u001b[1;33m[\u001b[0m\u001b[0mmodel\u001b[0m\u001b[1;33m]\u001b[0m\u001b[1;33m\u001b[0m\u001b[0m\n\u001b[0m\u001b[0;32m     46\u001b[0m             \u001b[0mX_train\u001b[0m\u001b[1;33m,\u001b[0m \u001b[0mX_test\u001b[0m\u001b[1;33m,\u001b[0m \u001b[0my_train\u001b[0m\u001b[1;33m,\u001b[0m \u001b[0my_test\u001b[0m \u001b[1;33m=\u001b[0m \u001b[0mtrain_test_split\u001b[0m\u001b[1;33m(\u001b[0m\u001b[0mX\u001b[0m\u001b[1;33m,\u001b[0m \u001b[0my\u001b[0m\u001b[1;33m,\u001b[0m \u001b[0mtest_size\u001b[0m\u001b[1;33m=\u001b[0m\u001b[1;36m0.3\u001b[0m\u001b[1;33m,\u001b[0m \u001b[0mrandom_state\u001b[0m\u001b[1;33m=\u001b[0m\u001b[1;36m0\u001b[0m\u001b[1;33m)\u001b[0m\u001b[1;33m\u001b[0m\u001b[0m\n\u001b[0;32m     47\u001b[0m             \u001b[0my_predict\u001b[0m\u001b[1;33m=\u001b[0m \u001b[0mmodel\u001b[0m\u001b[1;33m.\u001b[0m\u001b[0mpredict\u001b[0m\u001b[1;33m(\u001b[0m\u001b[0mX_test\u001b[0m\u001b[1;33m)\u001b[0m\u001b[1;33m\u001b[0m\u001b[0m\n",
      "\u001b[1;31mTypeError\u001b[0m: 'builtin_function_or_method' object is not subscriptable"
     ]
    }
   ],
   "source": [
    "# This question is about AdaBoost algorithm.\n",
    "# You should implement it using library function (DecisionTreeClassifier) as a base classifier\n",
    "# Don't do any additional imports, everything is already there\n",
    "#\n",
    "# There are two functions you need to implement:\n",
    "#      (a) fit\n",
    "#      (b) predict\n",
    "\n",
    "\n",
    "from sklearn.model_selection import train_test_split\n",
    "from sklearn.metrics import accuracy_score\n",
    "from sklearn.tree import DecisionTreeClassifier\n",
    "import numpy as np\n",
    "import pandas as pd\n",
    "\n",
    "\n",
    "class BoostingTreeClassifier:\n",
    "\n",
    "    def __init__(self, random_state):\n",
    "        self.random_state = random_state\n",
    "        self.classifiers = []\n",
    "        self.tree_weights = []\n",
    "\n",
    "#TO DO ---- 10 POINTS ---------- Implement the fit function ---------------------\n",
    "    def fit(self, X, y, n_trees):\n",
    "        \"\"\"Trains n_trees classifiers based on AdaBoost algorithm - i.e. applying same\n",
    "        model on samples while changing their weights. You should only use library\n",
    "        function DecisionTreeClassifier as a base classifier, the boosting algorithm\n",
    "        itself should be written from scratch. Store trained tree classifiers\n",
    "        in self.classifiers. Calculate tree weight for each classifier and store them\n",
    "        in self.tree_weights. Initialise DecisionTreeClassifier with self.random_state\n",
    "\n",
    "        :param X: train data\n",
    "        :param y: train labels\n",
    "        :param n_trees: number of trees to train\n",
    "        :return: doesn't return anything\n",
    "        \"\"\"\n",
    "        alphas =[k/n_trees for k in range(len(X))]\n",
    "        for i in range(n_trees):\n",
    "            model= DecisionTreeClassifier( criterion='gini', splitter='best', max_depth=None, min_samples_split=2, min_samples_leaf=1, \n",
    "                                     min_weight_fraction_leaf=0.0, max_features=None, random_state=self.random_state, max_leaf_nodes=None, \n",
    "                                     min_impurity_decrease=0.0, min_impurity_split=None, class_weight=None, presort=False)\n",
    "            \n",
    "            model.fit(X, y)\n",
    "            self.classifiers.append[model]\n",
    "            X_train, X_test, y_train, y_test = train_test_split(X, y, test_size=0.3, random_state=0)\n",
    "            y_predict= model.predict(X_test)\n",
    "            \n",
    "            error=0\n",
    "            for j in range(len(X)):\n",
    "                if y_predict[j]==y_test[j]:        \n",
    "                    error+= alphas\n",
    "            error=error/sum(alphas)    \n",
    "                           \n",
    "            w= 0.5*((1 - np.log(error))/error)\n",
    "            self.tree_weights.append(w)\n",
    "                           \n",
    "            for j in range(len(X)):\n",
    "                if y_predict[j]==y_test[j]:\n",
    "                    alphas[i]=alphas[j]*np.exp(-w)\n",
    "                else:\n",
    "                    alphas[j]=alphas[j]*np.exp(w)    \n",
    "            \n",
    "            alphas=[alpha/sum(alphas)  for alpha in alphas]\n",
    "            \n",
    "#TO DO ---- 5 POINTS ---------- Implement the predict function ---------------------\n",
    "    def predict(self, X):\n",
    "        \"\"\"Makes final predictions aggregating predictions of trained classifiers\n",
    "\n",
    "        :param X: test data\n",
    "        :return: predictions\n",
    "        \"\"\"\n",
    "        predictions=[]\n",
    "        for i in len(X):\n",
    "            predictions.append(self.tree_weights[i]*self.classifiers[i].predict(X[i, :]))\n",
    "        \n",
    "        predictions=[1 for i in predictions if i>0]\n",
    "        predictions=[-1 for i in predictions if i<0]\n",
    "        return predictions\n",
    "\n",
    "\n",
    "\n",
    "# loading and pre-processing titanic data set\n",
    "titanic = pd.read_csv('titanic_modified.csv').dropna()\n",
    "data = titanic[['Pclass', 'Age', 'SibSp', 'Parch']].values\n",
    "labels = titanic.iloc[:, 6].values\n",
    "# changing labels so that we can apply boosting\n",
    "labels[np.argwhere(labels == 0)] = -1\n",
    "# splitting into train and test set\n",
    "X_train, X_test, y_train, y_test = train_test_split(data, labels, test_size=0.3, random_state=0)\n",
    "\n",
    "# setting constants\n",
    "rand_state = 3\n",
    "T = 10  # number of trees\n",
    "\n",
    "# measuring accuracy using one decision tree\n",
    "tree = DecisionTreeClassifier(random_state=rand_state)\n",
    "tree.fit(X_train, y_train)\n",
    "print('One tree accuracy:', accuracy_score(tree.predict(X_test), y_test))\n",
    "\n",
    "# measuring accuracy using an ensemble based on boosting\n",
    "ensemble = BoostingTreeClassifier(random_state=rand_state)\n",
    "ensemble.fit(X_train, y_train, T)\n",
    "print('Ensemble accuracy:', accuracy_score(ensemble.predict(X_test), y_test))\n"
   ]
  },
  {
   "cell_type": "code",
   "execution_count": 1,
   "metadata": {},
   "outputs": [],
   "source": [
    "\n",
    "from sklearn.model_selection import train_test_split\n",
    "from sklearn.metrics import accuracy_score\n",
    "from sklearn.tree import DecisionTreeClassifier\n",
    "import numpy as np\n",
    "import pandas as pd\n",
    "\n"
   ]
  },
  {
   "cell_type": "code",
   "execution_count": null,
   "metadata": {},
   "outputs": [],
   "source": [
    "DecisionTreeClassifier()"
   ]
  },
  {
   "cell_type": "code",
   "execution_count": null,
   "metadata": {},
   "outputs": [],
   "source": []
  },
  {
   "cell_type": "code",
   "execution_count": null,
   "metadata": {},
   "outputs": [],
   "source": []
  },
  {
   "cell_type": "code",
   "execution_count": null,
   "metadata": {},
   "outputs": [],
   "source": []
  },
  {
   "cell_type": "code",
   "execution_count": null,
   "metadata": {},
   "outputs": [],
   "source": []
  },
  {
   "cell_type": "code",
   "execution_count": null,
   "metadata": {},
   "outputs": [],
   "source": []
  }
 ],
 "metadata": {
  "kernelspec": {
   "display_name": "Python 3",
   "language": "python",
   "name": "python3"
  },
  "language_info": {
   "codemirror_mode": {
    "name": "ipython",
    "version": 3
   },
   "file_extension": ".py",
   "mimetype": "text/x-python",
   "name": "python",
   "nbconvert_exporter": "python",
   "pygments_lexer": "ipython3",
   "version": "3.6.5"
  }
 },
 "nbformat": 4,
 "nbformat_minor": 2
}

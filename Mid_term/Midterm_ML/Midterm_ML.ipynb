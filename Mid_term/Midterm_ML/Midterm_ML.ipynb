{
 "cells": [
  {
   "cell_type": "code",
   "execution_count": 70,
   "metadata": {},
   "outputs": [],
   "source": [
    "import numpy as np\n",
    "import pandas as pd\n",
    "\n",
    "\n",
    "\n",
    "dataset = pd.read_csv('Salary_Data.csv')\n",
    "\n",
    "X = dataset.iloc[:,0]\n",
    "Y = dataset.iloc[:,1]\n"
   ]
  },
  {
   "cell_type": "code",
   "execution_count": 71,
   "metadata": {},
   "outputs": [],
   "source": [
    "    def my_linear_regression(x, y, lr, n_iterations):\n",
    "        w=np.array([1.0, -1.0])\n",
    "        iterations =1\n",
    "        N=len(x)\n",
    "        \n",
    "        while iterations<n_iterations:\n",
    "            delta= w[0] + w[1]*x- y\n",
    "            \n",
    "            db0= 2*sum(delta)/N\n",
    "            db1= 2*np.dot(x, delta)/N\n",
    "            \n",
    "            w[0]= w[0] - lr* db0\n",
    "            w[1] = w[1] -lr*db1\n",
    "            \n",
    "            iterations+=1\n",
    "        return w[0], w[1]"
   ]
  },
  {
   "cell_type": "code",
   "execution_count": 72,
   "metadata": {},
   "outputs": [
    {
     "data": {
      "text/plain": [
       "(25446.736469560605, 9501.22769254389)"
      ]
     },
     "execution_count": 72,
     "metadata": {},
     "output_type": "execute_result"
    }
   ],
   "source": [
    "beta= my_linear_regression(X, Y, 0.01, 1000)\n",
    "beta"
   ]
  },
  {
   "cell_type": "code",
   "execution_count": 66,
   "metadata": {
    "collapsed": true
   },
   "outputs": [
    {
     "ename": "TypeError",
     "evalue": "Singleton array array(0.5) cannot be considered a valid collection.",
     "output_type": "error",
     "traceback": [
      "\u001b[1;31m---------------------------------------------------------------------------\u001b[0m",
      "\u001b[1;31mTypeError\u001b[0m                                 Traceback (most recent call last)",
      "\u001b[1;32m<ipython-input-66-180c648b84df>\u001b[0m in \u001b[0;36m<module>\u001b[1;34m()\u001b[0m\n\u001b[0;32m      1\u001b[0m \u001b[1;32mfrom\u001b[0m \u001b[0msklearn\u001b[0m\u001b[1;33m.\u001b[0m\u001b[0mmodel_selection\u001b[0m \u001b[1;32mimport\u001b[0m \u001b[0mtrain_test_split\u001b[0m\u001b[1;33m\u001b[0m\u001b[0m\n\u001b[1;32m----> 2\u001b[1;33m \u001b[0mx_train\u001b[0m\u001b[1;33m,\u001b[0m \u001b[0mx_test\u001b[0m\u001b[1;33m,\u001b[0m \u001b[0my_train\u001b[0m\u001b[1;33m,\u001b[0m \u001b[0my_test\u001b[0m \u001b[1;33m=\u001b[0m \u001b[0mtrain_test_split\u001b[0m\u001b[1;33m(\u001b[0m\u001b[0mX\u001b[0m\u001b[1;33m[\u001b[0m\u001b[1;36m5\u001b[0m\u001b[1;33m:\u001b[0m\u001b[1;36m10\u001b[0m\u001b[1;33m]\u001b[0m\u001b[1;33m,\u001b[0m\u001b[0mY\u001b[0m\u001b[1;33m[\u001b[0m\u001b[1;36m5\u001b[0m\u001b[1;33m:\u001b[0m\u001b[1;36m10\u001b[0m\u001b[1;33m]\u001b[0m\u001b[1;33m,\u001b[0m \u001b[1;36m0.5\u001b[0m\u001b[1;33m)\u001b[0m\u001b[1;33m\u001b[0m\u001b[0m\n\u001b[0m",
      "\u001b[1;32m~\\Anaconda3\\lib\\site-packages\\sklearn\\model_selection\\_split.py\u001b[0m in \u001b[0;36mtrain_test_split\u001b[1;34m(*arrays, **options)\u001b[0m\n\u001b[0;32m   2029\u001b[0m         \u001b[0mtest_size\u001b[0m \u001b[1;33m=\u001b[0m \u001b[1;36m0.25\u001b[0m\u001b[1;33m\u001b[0m\u001b[0m\n\u001b[0;32m   2030\u001b[0m \u001b[1;33m\u001b[0m\u001b[0m\n\u001b[1;32m-> 2031\u001b[1;33m     \u001b[0marrays\u001b[0m \u001b[1;33m=\u001b[0m \u001b[0mindexable\u001b[0m\u001b[1;33m(\u001b[0m\u001b[1;33m*\u001b[0m\u001b[0marrays\u001b[0m\u001b[1;33m)\u001b[0m\u001b[1;33m\u001b[0m\u001b[0m\n\u001b[0m\u001b[0;32m   2032\u001b[0m \u001b[1;33m\u001b[0m\u001b[0m\n\u001b[0;32m   2033\u001b[0m     \u001b[1;32mif\u001b[0m \u001b[0mshuffle\u001b[0m \u001b[1;32mis\u001b[0m \u001b[1;32mFalse\u001b[0m\u001b[1;33m:\u001b[0m\u001b[1;33m\u001b[0m\u001b[0m\n",
      "\u001b[1;32m~\\Anaconda3\\lib\\site-packages\\sklearn\\utils\\validation.py\u001b[0m in \u001b[0;36mindexable\u001b[1;34m(*iterables)\u001b[0m\n\u001b[0;32m    227\u001b[0m         \u001b[1;32melse\u001b[0m\u001b[1;33m:\u001b[0m\u001b[1;33m\u001b[0m\u001b[0m\n\u001b[0;32m    228\u001b[0m             \u001b[0mresult\u001b[0m\u001b[1;33m.\u001b[0m\u001b[0mappend\u001b[0m\u001b[1;33m(\u001b[0m\u001b[0mnp\u001b[0m\u001b[1;33m.\u001b[0m\u001b[0marray\u001b[0m\u001b[1;33m(\u001b[0m\u001b[0mX\u001b[0m\u001b[1;33m)\u001b[0m\u001b[1;33m)\u001b[0m\u001b[1;33m\u001b[0m\u001b[0m\n\u001b[1;32m--> 229\u001b[1;33m     \u001b[0mcheck_consistent_length\u001b[0m\u001b[1;33m(\u001b[0m\u001b[1;33m*\u001b[0m\u001b[0mresult\u001b[0m\u001b[1;33m)\u001b[0m\u001b[1;33m\u001b[0m\u001b[0m\n\u001b[0m\u001b[0;32m    230\u001b[0m     \u001b[1;32mreturn\u001b[0m \u001b[0mresult\u001b[0m\u001b[1;33m\u001b[0m\u001b[0m\n\u001b[0;32m    231\u001b[0m \u001b[1;33m\u001b[0m\u001b[0m\n",
      "\u001b[1;32m~\\Anaconda3\\lib\\site-packages\\sklearn\\utils\\validation.py\u001b[0m in \u001b[0;36mcheck_consistent_length\u001b[1;34m(*arrays)\u001b[0m\n\u001b[0;32m    198\u001b[0m     \"\"\"\n\u001b[0;32m    199\u001b[0m \u001b[1;33m\u001b[0m\u001b[0m\n\u001b[1;32m--> 200\u001b[1;33m     \u001b[0mlengths\u001b[0m \u001b[1;33m=\u001b[0m \u001b[1;33m[\u001b[0m\u001b[0m_num_samples\u001b[0m\u001b[1;33m(\u001b[0m\u001b[0mX\u001b[0m\u001b[1;33m)\u001b[0m \u001b[1;32mfor\u001b[0m \u001b[0mX\u001b[0m \u001b[1;32min\u001b[0m \u001b[0marrays\u001b[0m \u001b[1;32mif\u001b[0m \u001b[0mX\u001b[0m \u001b[1;32mis\u001b[0m \u001b[1;32mnot\u001b[0m \u001b[1;32mNone\u001b[0m\u001b[1;33m]\u001b[0m\u001b[1;33m\u001b[0m\u001b[0m\n\u001b[0m\u001b[0;32m    201\u001b[0m     \u001b[0muniques\u001b[0m \u001b[1;33m=\u001b[0m \u001b[0mnp\u001b[0m\u001b[1;33m.\u001b[0m\u001b[0munique\u001b[0m\u001b[1;33m(\u001b[0m\u001b[0mlengths\u001b[0m\u001b[1;33m)\u001b[0m\u001b[1;33m\u001b[0m\u001b[0m\n\u001b[0;32m    202\u001b[0m     \u001b[1;32mif\u001b[0m \u001b[0mlen\u001b[0m\u001b[1;33m(\u001b[0m\u001b[0muniques\u001b[0m\u001b[1;33m)\u001b[0m \u001b[1;33m>\u001b[0m \u001b[1;36m1\u001b[0m\u001b[1;33m:\u001b[0m\u001b[1;33m\u001b[0m\u001b[0m\n",
      "\u001b[1;32m~\\Anaconda3\\lib\\site-packages\\sklearn\\utils\\validation.py\u001b[0m in \u001b[0;36m<listcomp>\u001b[1;34m(.0)\u001b[0m\n\u001b[0;32m    198\u001b[0m     \"\"\"\n\u001b[0;32m    199\u001b[0m \u001b[1;33m\u001b[0m\u001b[0m\n\u001b[1;32m--> 200\u001b[1;33m     \u001b[0mlengths\u001b[0m \u001b[1;33m=\u001b[0m \u001b[1;33m[\u001b[0m\u001b[0m_num_samples\u001b[0m\u001b[1;33m(\u001b[0m\u001b[0mX\u001b[0m\u001b[1;33m)\u001b[0m \u001b[1;32mfor\u001b[0m \u001b[0mX\u001b[0m \u001b[1;32min\u001b[0m \u001b[0marrays\u001b[0m \u001b[1;32mif\u001b[0m \u001b[0mX\u001b[0m \u001b[1;32mis\u001b[0m \u001b[1;32mnot\u001b[0m \u001b[1;32mNone\u001b[0m\u001b[1;33m]\u001b[0m\u001b[1;33m\u001b[0m\u001b[0m\n\u001b[0m\u001b[0;32m    201\u001b[0m     \u001b[0muniques\u001b[0m \u001b[1;33m=\u001b[0m \u001b[0mnp\u001b[0m\u001b[1;33m.\u001b[0m\u001b[0munique\u001b[0m\u001b[1;33m(\u001b[0m\u001b[0mlengths\u001b[0m\u001b[1;33m)\u001b[0m\u001b[1;33m\u001b[0m\u001b[0m\n\u001b[0;32m    202\u001b[0m     \u001b[1;32mif\u001b[0m \u001b[0mlen\u001b[0m\u001b[1;33m(\u001b[0m\u001b[0muniques\u001b[0m\u001b[1;33m)\u001b[0m \u001b[1;33m>\u001b[0m \u001b[1;36m1\u001b[0m\u001b[1;33m:\u001b[0m\u001b[1;33m\u001b[0m\u001b[0m\n",
      "\u001b[1;32m~\\Anaconda3\\lib\\site-packages\\sklearn\\utils\\validation.py\u001b[0m in \u001b[0;36m_num_samples\u001b[1;34m(x)\u001b[0m\n\u001b[0;32m    117\u001b[0m         \u001b[1;32mif\u001b[0m \u001b[0mlen\u001b[0m\u001b[1;33m(\u001b[0m\u001b[0mx\u001b[0m\u001b[1;33m.\u001b[0m\u001b[0mshape\u001b[0m\u001b[1;33m)\u001b[0m \u001b[1;33m==\u001b[0m \u001b[1;36m0\u001b[0m\u001b[1;33m:\u001b[0m\u001b[1;33m\u001b[0m\u001b[0m\n\u001b[0;32m    118\u001b[0m             raise TypeError(\"Singleton array %r cannot be considered\"\n\u001b[1;32m--> 119\u001b[1;33m                             \" a valid collection.\" % x)\n\u001b[0m\u001b[0;32m    120\u001b[0m         \u001b[1;32mreturn\u001b[0m \u001b[0mx\u001b[0m\u001b[1;33m.\u001b[0m\u001b[0mshape\u001b[0m\u001b[1;33m[\u001b[0m\u001b[1;36m0\u001b[0m\u001b[1;33m]\u001b[0m\u001b[1;33m\u001b[0m\u001b[0m\n\u001b[0;32m    121\u001b[0m     \u001b[1;32melse\u001b[0m\u001b[1;33m:\u001b[0m\u001b[1;33m\u001b[0m\u001b[0m\n",
      "\u001b[1;31mTypeError\u001b[0m: Singleton array array(0.5) cannot be considered a valid collection."
     ]
    }
   ],
   "source": []
  },
  {
   "cell_type": "code",
   "execution_count": 73,
   "metadata": {},
   "outputs": [],
   "source": [
    "x_train, x_test, y_train, y_test = train_test_split(X, Y, test_size=0.33, random_state=42)"
   ]
  },
  {
   "cell_type": "code",
   "execution_count": 22,
   "metadata": {},
   "outputs": [],
   "source": []
  },
  {
   "cell_type": "code",
   "execution_count": 40,
   "metadata": {},
   "outputs": [],
   "source": [
    "\n"
   ]
  },
  {
   "cell_type": "code",
   "execution_count": 74,
   "metadata": {},
   "outputs": [
    {
     "data": {
      "text/plain": [
       "Text(0.5,1,'Exp vs Salary')"
      ]
     },
     "execution_count": 74,
     "metadata": {},
     "output_type": "execute_result"
    },
    {
     "data": {
      "image/png": "[encoded data removed]",
      "text/plain": [
       "<Figure size 432x288 with 1 Axes>"
      ]
     },
     "metadata": {},
     "output_type": "display_data"
    }
   ],
   "source": [
    "from matplotlib import pyplot as plt\n",
    "\n",
    "x=X\n",
    "N=len(x)-1\n",
    "plt.plot([x[0],x[N]], [beta[0]+ x[0]*beta[1], beta[0] + beta[1]*x[N]], color='red')\n",
    "plt.ylabel('Salary')\n",
    "plt.title('Exp vs Salary')"
   ]
  },
  {
   "cell_type": "code",
   "execution_count": 75,
   "metadata": {},
   "outputs": [],
   "source": [
    "def split_data(x, y, testSize):\n",
    "    '''\n",
    "    Function for splitting the dataset\n",
    "    Arguments:\n",
    "    X - input predictors\n",
    "    Y - labels\n",
    "    testSize - proportion of the test data\n",
    "\n",
    "    Returns:\n",
    "    x_train - training data\n",
    "    x_test  - test data\n",
    "    y_train - training data labels\n",
    "    y_test  - test data labels\n",
    "    '''\n",
    "    #-------------------------- Your code here -------------------------------\n",
    "    x_train, x_test, y_train, y_test = train_test_split(X, Y, test_size=0.33, random_state=42)    \n",
    "    \n",
    "    return x_train, x_test, y_train, y_test\n"
   ]
  },
  {
   "cell_type": "code",
   "execution_count": 77,
   "metadata": {},
   "outputs": [],
   "source": [
    "x_train, x_test, y_train, y_test= split_data(X, Y, 0.2)"
   ]
  },
  {
   "cell_type": "code",
   "execution_count": 78,
   "metadata": {},
   "outputs": [],
   "source": [
    "def my_linear_regression(x, y, lr, n_iterations):\n",
    "    '''\n",
    "    Function for linear regression based on gradient descent\n",
    "    Arguments:\n",
    "    x - input data\n",
    "    y - labels\n",
    "    lr - learning rate\n",
    "    n_iterations - number of iterations\n",
    "    Returns:\n",
    "    beta - array of predictors coefficients\n",
    "    '''\n",
    "    #------------------ 4 Points ---- Your code here -------------------------------\n",
    "    w=np.array([1.0, -1.0])\n",
    "    iterations =1\n",
    "    N=len(x)\n",
    "        \n",
    "    while iterations<n_iterations:\n",
    "         delta= w[0] + w[1]*x- y\n",
    "         db0= 2*sum(delta)/N\n",
    "         db1= 2*np.dot(x, delta)/N\n",
    "            \n",
    "         w[0]= w[0] - lr* db0\n",
    "         w[1] = w[1] -lr*db1\n",
    "            \n",
    "         iterations+=1\n",
    "    return w[0], w[1]"
   ]
  },
  {
   "cell_type": "code",
   "execution_count": 79,
   "metadata": {},
   "outputs": [],
   "source": [
    "beta= my_linear_regression(X, Y, 0.01, 1000)\n"
   ]
  },
  {
   "cell_type": "code",
   "execution_count": 80,
   "metadata": {},
   "outputs": [],
   "source": [
    "def plot_regression_line(x, y, beta):\n",
    "    '''\n",
    "    Function to plot regression line vs. the training data\n",
    "    xlabel: Years of Experience\n",
    "    ylabel: Salary\n",
    "    title: Exp vs. Salary \n",
    "\n",
    "    Arguments:\n",
    "    x - training data\n",
    "    y - training labels\n",
    "    beta - predictors coefficients\n",
    "    '''\n",
    "    #-------------------------- Your code here -------------------------------\n",
    "    \n",
    "    N=len(x)-1\n",
    "    plt.plot([x[0],x[N]], [beta[0]+ x[0]*beta[1], beta[0] + beta[1]*x[N]], color='red')\n",
    "    plt.ylabel('Salary')\n",
    "    plt.xlabel('Years of experience')\n",
    "    plt.title('Exp vs Salary')"
   ]
  },
  {
   "cell_type": "code",
   "execution_count": 81,
   "metadata": {},
   "outputs": [
    {
     "data": {
      "image/png": "[encoded data removed]",
      "text/plain": [
       "<Figure size 432x288 with 1 Axes>"
      ]
     },
     "metadata": {},
     "output_type": "display_data"
    }
   ],
   "source": [
    "plot_regression_line(X, Y, beta)"
   ]
  },
  {
   "cell_type": "code",
   "execution_count": 82,
   "metadata": {},
   "outputs": [],
   "source": [
    "def predict(x, beta):\n",
    "    '''\n",
    "    Function to predict values based on predictors coefficients\n",
    "    Arguments:\n",
    "    x - input test data\n",
    "    beta - predictors coefficients\n",
    "    \n",
    "    Returns:\n",
    "    y_predicted - array of predicted values\n",
    "    '''\n",
    "    #-------------------------- Your code here -------------------------------\n",
    "    y_predicted= beta[0] + beta[1]*x\n",
    "    return y_predicted"
   ]
  },
  {
   "cell_type": "code",
   "execution_count": 84,
   "metadata": {},
   "outputs": [],
   "source": [
    "def rmse_metric(actual, predicted):\n",
    "    '''\n",
    "    Function to calculate rmse using actual and predicted results\n",
    "    \n",
    "\n",
    "    Arguments:\n",
    "    actual: ground truth\n",
    "    predicted: prediction via model\n",
    "    \n",
    "    Returns:\n",
    "    RMSE: root mean squared erros    \n",
    "    '''\n",
    "    sum_error = 0.0\n",
    "    for i in range(len(actual)):\n",
    "        print(\"Expected = %.0f, Predicted = %.0f\" % (actual[i], predicted[i]))\n",
    "        prediction_error = predicted[i] - actual[i]\n",
    "        sum_error += (prediction_error ** 2)\n",
    "        mean_error = sum_error / float(len(actual))\n",
    "    return np.sqrt(mean_error)"
   ]
  },
  {
   "cell_type": "code",
   "execution_count": 95,
   "metadata": {},
   "outputs": [
    {
     "name": "stdout",
     "output_type": "stream",
     "text": [
      "Expected = 112635, Predicted = 115973\n",
      "Expected = 67938, Predicted = 71438\n",
      "Expected = 113812, Predicted = 102707\n",
      "Expected = 83088, Predicted = 75228\n",
      "Expected = 64445, Predicted = 55330\n",
      "Expected = 57189, Predicted = 60067\n",
      "Expected = 122391, Predicted = 122606\n",
      "Expected = 109431, Predicted = 107445\n",
      "Expected = 56957, Predicted = 62910\n",
      "Expected = 39343, Predicted = 35431\n",
      "RMSE = 5954.741\n"
     ]
    },
    {
     "data": {
      "image/png": "[encoded data removed]",
      "text/plain": [
       "<Figure size 432x288 with 1 Axes>"
      ]
     },
     "metadata": {},
     "output_type": "display_data"
    }
   ],
   "source": [
    "# --------------------- Splitting the dataset into training (70%) and test (30%) datasets ---------------------\n",
    "\n",
    "X_train, X_test, y_train, y_test = split_data(X,Y, 0.3)\n",
    "\n",
    "\n",
    "# ---------------------Estimating the models ---------------------\n",
    "beta = my_linear_regression(X_train, y_train, 0.01, 1000)\n",
    "\n",
    "\n",
    "# --------------------- Plotting regression line vs. the training data ---------------------\n",
    "plot_regression_line(X_train.iloc[:].values, y_train.iloc[:].values, beta)\n",
    "\n",
    "\n",
    "# --------------------- Prediction on test data and calculating RMSE ---------------------\n",
    "X_test = np.array(X_test)\n",
    "y_test = np.array(y_test)\n",
    "\n",
    "pred = predict(X_test, beta)\n",
    "\n",
    "rmse = rmse_metric(y_test, pred)\n",
    "print('RMSE = %.3f'% (rmse))"
   ]
  },
  {
   "cell_type": "code",
   "execution_count": 96,
   "metadata": {},
   "outputs": [
    {
     "name": "stderr",
     "output_type": "stream",
     "text": [
      "C:\\Users\\PC\\Anaconda3\\lib\\site-packages\\ipykernel_launcher.py:20: RuntimeWarning: overflow encountered in double_scalars\n",
      "C:\\Users\\PC\\Anaconda3\\lib\\site-packages\\ipykernel_launcher.py:23: RuntimeWarning: invalid value encountered in double_scalars\n"
     ]
    },
    {
     "name": "stdout",
     "output_type": "stream",
     "text": [
      "Expected = 112635, Predicted = nan\n",
      "Expected = 67938, Predicted = nan\n",
      "Expected = 113812, Predicted = nan\n",
      "Expected = 83088, Predicted = nan\n",
      "Expected = 64445, Predicted = nan\n",
      "Expected = 57189, Predicted = nan\n",
      "Expected = 122391, Predicted = nan\n",
      "Expected = 109431, Predicted = nan\n",
      "Expected = 56957, Predicted = nan\n",
      "Expected = 39343, Predicted = nan\n",
      "RMSE = nan\n"
     ]
    },
    {
     "data": {
      "image/png": "[encoded data removed]",
      "text/plain": [
       "<Figure size 432x288 with 1 Axes>"
      ]
     },
     "metadata": {},
     "output_type": "display_data"
    }
   ],
   "source": [
    "# --------------------- Splitting the dataset into training (70%) and test (30%) datasets ---------------------\n",
    "\n",
    "X_train, X_test, y_train, y_test = split_data(X,Y, 0.3)\n",
    "\n",
    "\n",
    "# ---------------------Estimating the models ---------------------\n",
    "beta = my_linear_regression(X_train, y_train, 0.05, 1000)\n",
    "\n",
    "\n",
    "# --------------------- Plotting regression line vs. the training data ---------------------\n",
    "plot_regression_line(X_train.iloc[:].values, y_train.iloc[:].values, beta)\n",
    "\n",
    "\n",
    "# --------------------- Prediction on test data and calculating RMSE ---------------------\n",
    "X_test = np.array(X_test)\n",
    "y_test = np.array(y_test)\n",
    "\n",
    "pred = predict(X_test, beta)\n",
    "\n",
    "rmse = rmse_metric(y_test, pred)\n",
    "print('RMSE = %.3f'% (rmse))"
   ]
  },
  {
   "cell_type": "code",
   "execution_count": 97,
   "metadata": {},
   "outputs": [
    {
     "name": "stdout",
     "output_type": "stream",
     "text": [
      "Expected = 112635, Predicted = 123421\n",
      "Expected = 67938, Predicted = 67973\n",
      "Expected = 113812, Predicted = 106904\n",
      "Expected = 83088, Predicted = 72692\n",
      "Expected = 64445, Predicted = 47918\n",
      "Expected = 57189, Predicted = 53816\n",
      "Expected = 122391, Predicted = 131679\n",
      "Expected = 109431, Predicted = 112803\n",
      "Expected = 56957, Predicted = 57356\n",
      "Expected = 39343, Predicted = 23143\n",
      "RMSE = 9575.280\n"
     ]
    },
    {
     "data": {
      "image/png": "[encoded data removed]",
      "text/plain": [
       "<Figure size 432x288 with 1 Axes>"
      ]
     },
     "metadata": {},
     "output_type": "display_data"
    }
   ],
   "source": [
    "# --------------------- Splitting the dataset into training (70%) and test (30%) datasets ---------------------\n",
    "\n",
    "X_train, X_test, y_train, y_test = split_data(X,Y, 0.3)\n",
    "\n",
    "\n",
    "# ---------------------Estimating the models ---------------------\n",
    "beta = my_linear_regression(X_train, y_train, 0.001, 1000)\n",
    "\n",
    "\n",
    "# --------------------- Plotting regression line vs. the training data ---------------------\n",
    "plot_regression_line(X_train.iloc[:].values, y_train.iloc[:].values, beta)\n",
    "\n",
    "\n",
    "# --------------------- Prediction on test data and calculating RMSE ---------------------\n",
    "X_test = np.array(X_test)\n",
    "y_test = np.array(y_test)\n",
    "\n",
    "pred = predict(X_test, beta)\n",
    "\n",
    "rmse = rmse_metric(y_test, pred)\n",
    "print('RMSE = %.3f'% (rmse))"
   ]
  },
  {
   "cell_type": "code",
   "execution_count": null,
   "metadata": {},
   "outputs": [],
   "source": []
  }
 ],
 "metadata": {
  "kernelspec": {
   "display_name": "Python 3",
   "language": "python",
   "name": "python3"
  },
  "language_info": {
   "codemirror_mode": {
    "name": "ipython",
    "version": 3
   },
   "file_extension": ".py",
   "mimetype": "text/x-python",
   "name": "python",
   "nbconvert_exporter": "python",
   "pygments_lexer": "ipython3",
   "version": "3.6.5"
  }
 },
 "nbformat": 4,
 "nbformat_minor": 2
}

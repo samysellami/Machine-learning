{
 "cells": [
  {
   "cell_type": "code",
   "execution_count": 137,
   "metadata": {},
   "outputs": [
    {
     "name": "stdout",
     "output_type": "stream",
     "text": [
      "5-fold cross validation:\n",
      "\n",
      "Enter your fucking k: 15\n",
      "mean accuarcy and std for logistic 0.5 +- 0.3777124126457411\n",
      "mean accuarcy and std for SVM  0.7333333333333332+-0.22110831935702668\n"
     ]
    }
   ],
   "source": [
    "#!/usr/bin/env python3\n",
    "# -*- coding: utf-8 -*-\n",
    "\"\"\"\n",
    "@author: Khan\n",
    "\"\"\"\n",
    "\n",
    "\"\"\"\n",
    "In this problem, you will implement LOGISTIC REGRESSION,\n",
    "and SUPPORT VECTOR MACHINES (default values for all attributes) using sklearn \n",
    "to identify three different types of irises (Setosa, Versicolour, virginica)\n",
    "using sepal length and sepal width as features. \n",
    "\n",
    "For evaluation, you will use K-fold Corss Validation -- this part you will implement yourself without any libraries\n",
    "\n",
    "\"\"\"\n",
    "#TO DO --------------------- Import all libraries here --------------------------\n",
    "\n",
    "from sklearn import datasets\n",
    "from sklearn.linear_model import LogisticRegression\n",
    "from sklearn.svm import SVC\n",
    "from sklearn.metrics import accuracy_score\n",
    "\n",
    "\"\"\" Loading Iris dataset  \n",
    "Reading the sepal width and petal length\n",
    "information for all rows \n",
    "X contains the features, y contains the targets\"\"\"\n",
    "iris = datasets.load_iris()\n",
    "X, y = iris.data[:, 0:2], iris.target\n",
    "\n",
    "\n",
    "\n",
    "#TO DO ---- 2 POINTS --------------------- Create the two classifier objects (Default values for all attributes) ---------------------\n",
    "model_logistic= LogisticRegression()\n",
    "model_svc=SVC()\n",
    "\n",
    "print('5-fold cross validation:\\n')\n",
    "\n",
    "#TO DO ---- 8 POINTS --------------------- Mode Fitting via Cross Validation ---------------\n",
    "\n",
    "#Fit both models using k-fold cross validation as follows \n",
    "\n",
    "#1 Point --- Get the value of k from user\n",
    "k = int( input('Enter your fucking k: '))\n",
    "\n",
    "\n",
    "\n",
    "\n",
    "#3 Points --- Create splits for cross-validation as per the value of k -- DO NOT USE ANY LIBRARIES\n",
    "splits_x_test=[]\n",
    "splits_x_train=[]\n",
    "splits_y_test=[]\n",
    "splits_y_train=[]\n",
    "\n",
    "\n",
    "m=round(len(X)/k)\n",
    "for i in range(k): \n",
    "    splits_x_test.append(X[i*m:(i+1)*m, :])\n",
    "    splits_x_train.append(np.concatenate((X[:i*m, :], X[(i+1)*m:, :]), axis=0))   \n",
    "    splits_y_test.append(y[i*m:(i+1)*m])\n",
    "    splits_y_train.append(np.concatenate((y[:i*m], y[(i+1)*m:]), axis=0))\n",
    "\n",
    "\n",
    "\n",
    "#---- 4 Points --- Then use those splits to fit the models, calculate and print the mean classification \n",
    "#accuracy and its standard deviation for each classifier as followsd\n",
    "\n",
    "accuracies_logistic=[]\n",
    "for i in range(k):\n",
    "    model_logistic.fit(splits_x_train[i], splits_y_train[i])\n",
    "    y_pred= model_logistic.predict(splits_x_test[i])\n",
    "    accuracies_logistic.append(accuracy_score(splits_y_test[i], y_pred))\n",
    "\n",
    "    \n",
    "accuracies_svc=[]\n",
    "for i in range(k):\n",
    "    model_svc.fit(splits_x_train[i], splits_y_train[i])\n",
    "    y_pred= model_svc.predict(splits_x_test[i])\n",
    "    accuracies_svc.append(accuracy_score(splits_y_test[i], y_pred))\n",
    "    \n",
    "print('mean accuarcy and std for logistic {} +- {}'.format(np.mean(accuracies_logistic), np.std(accuracies_logistic)))\n",
    "print('mean accuarcy and std for SVM  {}+-{}'.format(np.mean(accuracies_svc), np.std(accuracies_svc)))\n",
    "\n",
    "\n",
    "#Accuracy: VAL (+/- VAL) [Logistic Regression]\n",
    "#Accuracy: VAL (+/- VAL) [SVM]\n",
    "\n"
   ]
  },
  {
   "cell_type": "code",
   "execution_count": 124,
   "metadata": {},
   "outputs": [],
   "source": [
    "from sklearn import datasets\n",
    "from sklearn.linear_model import LogisticRegression\n",
    "from sklearn.svm import SVC\n",
    "\n",
    "\n",
    "iris = datasets.load_iris()\n",
    "X, y = iris.data[:, 0:2], iris.target\n",
    "\n",
    "model_logistic= LogisticRegression(penalty ='l2',\n",
    "             dual = False,\n",
    "             tol  = 1e-4,\n",
    "             C= 1.0,\n",
    "             fit_intercept = True,\n",
    "             intercept_scaling = 1,\n",
    "             class_weight = None,\n",
    "             random_state = None,\n",
    "             solver = 'warn',\n",
    "             max_iter  = 100,\n",
    "             multi_class = 'warn',\n",
    "             verbose  = 0,\n",
    "             warm_start  = False,\n",
    "             n_jobs  = None)\n",
    "model_svc=SVC(C= 1.0,\n",
    "             kernel= 'rbf',\n",
    "             degree = 3,\n",
    "             gamma = 'auto_deprecated',\n",
    "             coef0 = 0.0,\n",
    "             shrinking = True,\n",
    "             probability = False,\n",
    "             tol= 1e-3,\n",
    "             cache_size = 200,\n",
    "             class_weight = None,\n",
    "             verbose = False,\n",
    "             max_iter = -1,\n",
    "             decision_function_shape = 'ovr',\n",
    "             random_state = None)"
   ]
  },
  {
   "cell_type": "code",
   "execution_count": 85,
   "metadata": {},
   "outputs": [
    {
     "name": "stdout",
     "output_type": "stream",
     "text": [
      "Enter your fucking k: 5\n"
     ]
    }
   ],
   "source": [
    "k = int( input('Enter your fucking k: '))\n",
    "splits_x_test=[]\n",
    "splits_x_train=[]\n",
    "splits_y_test=[]\n",
    "splits_y_train=[]\n",
    "\n",
    "\n",
    "m=round(len(X)/k)\n",
    "for i in range(k): \n",
    "    splits_x_test.append(X[i*m:(i+1)*m, :])\n",
    "    splits_x_train.append(np.concatenate((X[:i*m, :], X[(i+1)*m:, :]), axis=0))   \n",
    "    splits_y_test.append(y[i*m:(i+1)*m])\n",
    "    splits_y_train.append(np.concatenate((y[:i*m], y[(i+1)*m:]), axis=0))"
   ]
  },
  {
   "cell_type": "code",
   "execution_count": 127,
   "metadata": {},
   "outputs": [
    {
     "name": "stdout",
     "output_type": "stream",
     "text": [
      "mean accuarcy and std for logistic 0.42000000000000004 +- 0.39191835884530846\n",
      "mean accuarcy and std for SVM  0.5800000000000001+-0.33572475498704457\n"
     ]
    }
   ],
   "source": [
    "from sklearn.metrics import accuracy_score\n",
    "\n",
    "accuracies_logistic=[]\n",
    "for i in range(k):\n",
    "    model_logistic.fit(splits_x_train[i], splits_y_train[i])\n",
    "    y_pred= model_logistic.predict(splits_x_test[i])\n",
    "    accuracies_logistic.append(accuracy_score(splits_y_test[i], y_pred))\n",
    "\n",
    "    \n",
    "accuracies_svc=[]\n",
    "for i in range(k):\n",
    "    model_svc.fit(splits_x_train[i], splits_y_train[i])\n",
    "    y_pred= model_svc.predict(splits_x_test[i])\n",
    "    accuracies_svc.append(accuracy_score(splits_y_test[i], y_pred))\n",
    "    \n",
    "print('mean accuarcy and std for logistic {} +- {}'.format(np.mean(accuracies_logistic), np.std(accuracies_logistic)))\n",
    "print('mean accuarcy and std for SVM  {}+-{}'.format(np.mean(accuracies_svc), np.std(accuracies_svc)))\n",
    "\n"
   ]
  }
 ],
 "metadata": {
  "kernelspec": {
   "display_name": "Python 3",
   "language": "python",
   "name": "python3"
  },
  "language_info": {
   "codemirror_mode": {
    "name": "ipython",
    "version": 3
   },
   "file_extension": ".py",
   "mimetype": "text/x-python",
   "name": "python",
   "nbconvert_exporter": "python",
   "pygments_lexer": "ipython3",
   "version": "3.6.5"
  }
 },
 "nbformat": 4,
 "nbformat_minor": 2
}

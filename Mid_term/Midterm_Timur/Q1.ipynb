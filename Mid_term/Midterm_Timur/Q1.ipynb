{
 "cells": [
  {
   "cell_type": "code",
   "execution_count": 57,
   "metadata": {},
   "outputs": [
    {
     "name": "stdout",
     "output_type": "stream",
     "text": [
      "Dataset Lenght::  625\n",
      "Dataset Shape::  (625, 5)\n",
      "Dataset:: \n",
      "Accuracy for Gini  75.79617834394905\n",
      "Accuracy for IG  75.79617834394905\n"
     ]
    }
   ],
   "source": [
    "\"\"\"\n",
    "@author: Khan\n",
    "\"\"\"\n",
    "\n",
    "##The Problem is to compare the performance of Decision Tree classifier \n",
    "# implementation for Entropy and Gini.\n",
    "# Your modeled Decision Tree will compare the new records metrics (provided) with \n",
    "# the prior records (training data) that correctly classified the balance \n",
    "# scale’s tip direction.\n",
    "\n",
    "\n",
    "## Import Important Packages\n",
    "import numpy as np\n",
    "import pandas as pd\n",
    "from sklearn.model_selection import train_test_split\n",
    "from sklearn.metrics import accuracy_score\n",
    "from sklearn import tree\n",
    "\n",
    "\n",
    "\n",
    "\n",
    "# Import Data\n",
    "# For importing the data and manipulating it, we are going to use pandas dataframes.\n",
    "# After downloading the data file, you'r required to use Pandas read_csv() method to import data into \n",
    "# pandas dataframe. Since our data is separated by commas “,” and there is no header in our \n",
    "# data, so we will put header parameter’s value “None” and sep parameter’s value as  “,”.\n",
    "Data = pd.read_csv(\n",
    "'https://archive.ics.uci.edu/ml/machine-learning-databases/balance-scale/balance-scale.data',\n",
    "                           sep= ',', header= None)\n",
    "print ('Dataset Lenght:: ', len(Data))\n",
    "print ('Dataset Shape:: ', Data.shape)\n",
    "print ('Dataset:: ')\n",
    "Data.head()\n",
    "\n",
    "\n",
    "## Now divides data into feature set & target set (Slicing), where\n",
    "## X is your Data matrix and Y is your Class Representation\n",
    "\n",
    "# ******** 3 Poitns *********** Your Code Goes Here ***********\n",
    "\n",
    "X=Data.iloc[:, 1:].values\n",
    "y=Data.iloc[:, 0].values\n",
    "# Now Split data into train and test set. Test dataset should not be mixed up while building model. \n",
    "# Even during standardization, you should not standardize the test set.\n",
    "X_train, X_test, y_train, y_test = train_test_split(X, y)\n",
    "\n",
    "# Now you'll fit Decision tree algorithm on training data, predicting labels for\n",
    "# validation dataset and printing the accuracy of the model using various parameters\n",
    "# such as \"class_weight = None\", \"criterion = gini and entropy\", \"max_depth = 3\",\n",
    "# \"max_features = None\", \"max_leaf_nodes = None', \"min_samples_leaf = 5\", \n",
    "# \"min_samples_split = 2\", \"min_weight_fraction_leaf = 0.0\", \"presort = False\", \n",
    "# \"random_state = 100\", and \"splitter = 'best'\"\n",
    "\n",
    "# ******** 4 Poitns *********** Your Code Goes Here ***********\n",
    "\n",
    "# Gini\n",
    "clf_gini = tree.DecisionTreeClassifier(criterion= \"gini\",\n",
    "             splitter= \"best\",\n",
    "             max_depth = None,\n",
    "             min_samples_split = 2,\n",
    "             min_samples_leaf = 1,\n",
    "             min_weight_fraction_leaf = 0.,\n",
    "             max_features = None,\n",
    "             random_state = None,\n",
    "             max_leaf_nodes = None,\n",
    "             min_impurity_decrease = 0.,\n",
    "             min_impurity_split = None,\n",
    "             class_weight = None,\n",
    "             presort = False)\n",
    "clf_gini.fit(X_train, y_train)\n",
    "\n",
    "\n",
    "## Entropy\n",
    "clf_entropy = tree.DecisionTreeClassifier(criterion= \"entropy\",\n",
    "             splitter= \"best\",\n",
    "             max_depth = None,\n",
    "             min_samples_split = 2,\n",
    "             min_samples_leaf = 1,\n",
    "             min_weight_fraction_leaf = 0.,\n",
    "             max_features = None,\n",
    "             random_state = None,\n",
    "             max_leaf_nodes = None,\n",
    "             min_impurity_decrease = 0.,\n",
    "             min_impurity_split = None,\n",
    "             class_weight = None,\n",
    "             presort = False)\n",
    "clf_entropy.fit(X_train, y_train)\n",
    "\n",
    "\n",
    "## Now, you've modeled 2 classifiers. One classifier with gini index & \n",
    "# one with information gain as the criterion. You are ready to predict \n",
    "# classes for our test set. You can use predict() method. Try to predict \n",
    "# target variable for test set’s records.\n",
    "\n",
    "# ******** 3 Poitns *********** Your Code Goes Here ***********\n",
    "\n",
    "\n",
    "## Predict with Gini Index\n",
    "y_pred = clf_entropy.predict(X_test)\n",
    "\n",
    "# Prediction with information gain\n",
    "y_pred_en = clf_entropy.predict(X_test)\n",
    "\n",
    "\n",
    "# Evaluate the Classifier for Gini and Entorpy\n",
    "print ('Accuracy for Gini ', accuracy_score(y_test,y_pred)*100)\n",
    "print ('Accuracy for IG ', accuracy_score(y_test,y_pred_en)*100)\n",
    "\n"
   ]
  },
  {
   "cell_type": "code",
   "execution_count": 52,
   "metadata": {},
   "outputs": [
    {
     "name": "stdout",
     "output_type": "stream",
     "text": [
      "Dataset Lenght::  625\n",
      "Dataset Shape::  (625, 5)\n",
      "Dataset:: \n"
     ]
    }
   ],
   "source": [
    "import numpy as np\n",
    "import pandas as pd\n",
    "\n",
    "\n",
    "Data = pd.read_csv(\n",
    "'https://archive.ics.uci.edu/ml/machine-learning-databases/balance-scale/balance-scale.data',\n",
    "                           sep= ',', header= None)\n",
    "print ('Dataset Lenght:: ', len(Data))\n",
    "print ('Dataset Shape:: ', Data.shape)\n",
    "print ('Dataset:: ')\n",
    "Data.head()\n",
    "\n",
    "X=Data.iloc[:, 1:].values\n",
    "y=Data.iloc[:, 0].values\n",
    "#print(X, y, X.shape, y.shape, type(X))\n"
   ]
  },
  {
   "cell_type": "code",
   "execution_count": 53,
   "metadata": {},
   "outputs": [
    {
     "data": {
      "text/plain": [
       "DecisionTreeClassifier(class_weight=None, criterion='gini', max_depth=None,\n",
       "            max_features=None, max_leaf_nodes=None,\n",
       "            min_impurity_decrease=0.0, min_impurity_split=None,\n",
       "            min_samples_leaf=1, min_samples_split=2,\n",
       "            min_weight_fraction_leaf=0.0, presort=False, random_state=None,\n",
       "            splitter='best')"
      ]
     },
     "execution_count": 53,
     "metadata": {},
     "output_type": "execute_result"
    }
   ],
   "source": [
    "from sklearn.model_selection import train_test_split\n",
    "X_train, X_test, y_train, y_test = train_test_split(X, y)\n",
    "from sklearn import tree\n",
    "\n",
    "# Gini\n",
    "clf_gini = tree.DecisionTreeClassifier(criterion= \"gini\",\n",
    "             splitter= \"best\",\n",
    "             max_depth = None,\n",
    "             min_samples_split = 2,\n",
    "             min_samples_leaf = 1,\n",
    "             min_weight_fraction_leaf = 0.,\n",
    "             max_features = None,\n",
    "             random_state = None,\n",
    "             max_leaf_nodes = None,\n",
    "             min_impurity_decrease = 0.,\n",
    "             min_impurity_split = None,\n",
    "             class_weight = None,\n",
    "             presort = False)\n",
    "clf_gini.fit(X_train, y_train)"
   ]
  },
  {
   "cell_type": "code",
   "execution_count": 54,
   "metadata": {},
   "outputs": [
    {
     "data": {
      "text/plain": [
       "DecisionTreeClassifier(class_weight=None, criterion='entropy', max_depth=None,\n",
       "            max_features=None, max_leaf_nodes=None,\n",
       "            min_impurity_decrease=0.0, min_impurity_split=None,\n",
       "            min_samples_leaf=1, min_samples_split=2,\n",
       "            min_weight_fraction_leaf=0.0, presort=False, random_state=None,\n",
       "            splitter='best')"
      ]
     },
     "execution_count": 54,
     "metadata": {},
     "output_type": "execute_result"
    }
   ],
   "source": [
    "## Entropy\n",
    "clf_entropy = tree.DecisionTreeClassifier(criterion= \"entropy\",\n",
    "             splitter= \"best\",\n",
    "             max_depth = None,\n",
    "             min_samples_split = 2,\n",
    "             min_samples_leaf = 1,\n",
    "             min_weight_fraction_leaf = 0.,\n",
    "             max_features = None,\n",
    "             random_state = None,\n",
    "             max_leaf_nodes = None,\n",
    "             min_impurity_decrease = 0.,\n",
    "             min_impurity_split = None,\n",
    "             class_weight = None,\n",
    "             presort = False)\n",
    "clf_entropy.fit(X_train, y_train)"
   ]
  },
  {
   "cell_type": "code",
   "execution_count": 55,
   "metadata": {},
   "outputs": [],
   "source": [
    "\n",
    "## Predict with Gini Index\n",
    "y_pred = clf_entropy.predict(X_test)\n",
    "\n",
    "# Prediction with information gain\n",
    "y_pred_en = clf_entropy.predict(X_test)"
   ]
  },
  {
   "cell_type": "code",
   "execution_count": 56,
   "metadata": {},
   "outputs": [
    {
     "name": "stdout",
     "output_type": "stream",
     "text": [
      "Accuracy for Gini  77.70700636942675\n",
      "Accuracy for IG  77.70700636942675\n"
     ]
    }
   ],
   "source": [
    "from sklearn.metrics import accuracy_score\n",
    "# Evaluate the Classifier for Gini and Entorpy\n",
    "print ('Accuracy for Gini ', accuracy_score(y_test,y_pred)*100)\n",
    "print ('Accuracy for IG ', accuracy_score(y_test,y_pred_en)*100)"
   ]
  },
  {
   "cell_type": "code",
   "execution_count": null,
   "metadata": {},
   "outputs": [],
   "source": []
  },
  {
   "cell_type": "code",
   "execution_count": null,
   "metadata": {},
   "outputs": [],
   "source": []
  },
  {
   "cell_type": "code",
   "execution_count": null,
   "metadata": {},
   "outputs": [],
   "source": []
  },
  {
   "cell_type": "code",
   "execution_count": null,
   "metadata": {},
   "outputs": [],
   "source": []
  },
  {
   "cell_type": "code",
   "execution_count": null,
   "metadata": {},
   "outputs": [],
   "source": []
  },
  {
   "cell_type": "code",
   "execution_count": null,
   "metadata": {},
   "outputs": [],
   "source": []
  },
  {
   "cell_type": "code",
   "execution_count": null,
   "metadata": {},
   "outputs": [],
   "source": []
  },
  {
   "cell_type": "code",
   "execution_count": null,
   "metadata": {},
   "outputs": [],
   "source": []
  },
  {
   "cell_type": "code",
   "execution_count": null,
   "metadata": {},
   "outputs": [],
   "source": []
  }
 ],
 "metadata": {
  "kernelspec": {
   "display_name": "Python 3",
   "language": "python",
   "name": "python3"
  },
  "language_info": {
   "codemirror_mode": {
    "name": "ipython",
    "version": 3
   },
   "file_extension": ".py",
   "mimetype": "text/x-python",
   "name": "python",
   "nbconvert_exporter": "python",
   "pygments_lexer": "ipython3",
   "version": "3.6.5"
  }
 },
 "nbformat": 4,
 "nbformat_minor": 2
}
